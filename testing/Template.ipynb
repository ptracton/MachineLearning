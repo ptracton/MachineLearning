{
 "cells": [
  {
   "cell_type": "markdown",
   "metadata": {},
   "source": [
    "# 1. Frame the Problem\n",
    "\n",
    "1. Define the objective in business terms.  \n",
    "2. How will your solution be used?  \n",
    "3. What are the current solutions/workarounds (if any)?  \n",
    "4. How should you frame this problem (supervised/unsupervised, online/offline, etc.)  \n",
    "5. How should performance be measured?  \n",
    "6. Is the performance measure aligned with the business objective?  \n",
    "7. What would be the minimum performance needed to reach the business objective?  \n",
    "8. What are comparable problems? Can you reuse experience or tools?  \n",
    "9. Is human expertise available?  \n",
    "10. How would you solve the problem manually?  \n",
    "11. List the assumptions you or others have made so far.  \n",
    "12. Verify assumptions if possible.  "
   ]
  },
  {
   "cell_type": "markdown",
   "metadata": {},
   "source": [
    "# 2. Get the Data\n",
    "Note: automate as much as possible so you can easily get fresh data.  \n",
    "\n",
    "1. List the data you need and how much you need.  \n",
    "2. Find and document where you can get that data.  \n",
    "3. Check how much space it will take.  \n",
    "4. Check legal obligations, and get the authorization if necessary.  \n",
    "5. Get access authorizations.  \n",
    "6. Create a workspace (with enough storage space).  \n",
    "7. Get the data.  \n",
    "8. Convert the data to a format you can easily manipulate (without changing the data itself).  \n",
    "9. Ensure sensitive information is deleted or protected (e.g., anonymized). \n",
    "10. Check the size and type of data (time series, sample, geographical, etc.).  \n",
    "\n",
    "11. Sample a test set, put it aside, and never look at it (no data snooping!). \n"
   ]
  },
  {
   "cell_type": "code",
   "execution_count": 5,
   "metadata": {},
   "outputs": [],
   "source": [
    "# Numpy is the math library behind everything\n",
    "# https://numpy.org/\n",
    "import numpy as np\n",
    "\n",
    "# Pandas has the data frame class used in a lot of work\n",
    "# https://pandas.pydata.org/\n",
    "import pandas as pd\n",
    "\n",
    "# Matplotlib is my preferred plotting library\n",
    "# https://matplotlib.org/\n",
    "import matplotlib.pyplot as plt\n",
    "\n",
    "# You will need to split up your data\n",
    "# https://scikit-learn.org/stable/modules/generated/sklearn.model_selection.train_test_split.html\n",
    "from sklearn.model_selection import train_test_split\n",
    "\n",
    "# You will want to cross validate your testing data\n",
    "# https://scikit-learn.org/stable/modules/generated/sklearn.model_selection.cross_val_score.html\n",
    "from sklearn.model_selection import cross_val_score\n",
    "\n",
    "# Tune your parameters and find the best one\n",
    "# https://scikit-learn.org/stable/modules/generated/sklearn.model_selection.GridSearchCV.html\n",
    "from sklearn.model_selection import GridSearchCV\n",
    "\n",
    "# Randomized search on hyper parameters.\n",
    "# https://scikit-learn.org/stable/modules/generated/sklearn.model_selection.RandomizedSearchCV.html\n",
    "from sklearn.model_selection import RandomizedSearchCV\n",
    "\n",
    "# You should use pipelines to automate the flow\n",
    "# https://scikit-learn.org/stable/modules/generated/sklearn.pipeline.Pipeline.html\n",
    "from sklearn.pipeline import Pipeline\n",
    "\n",
    "# Set the backend of matplotlib to work better with Jupyter\n",
    "# https://stackoverflow.com/questions/43027980/purpose-of-matplotlib-inline\n",
    "%matplotlib inline"
   ]
  },
  {
   "cell_type": "markdown",
   "metadata": {},
   "source": [
    "Sci-Kit Tools for getting data:\n",
    "\n",
    "1. https://scikit-learn.org/stable/modules/classes.html#module-sklearn.datasets\n",
    "2. https://scikit-learn.org/stable/datasets/index.html#datasets\n",
    "\n",
    "\n",
    "Sources of Data\n",
    "1. https://www.openml.org/\n",
    "2. https://archive.ics.uci.edu/ml/datasets.php\n",
    "3. https://github.com/awesomedata/awesome-public-datasets\n",
    "4. https://www.data.gov/\n",
    "5. https://www.kaggle.com/datasets\n",
    "6. https://www.google.com/publicdata/directory\n",
    "7. https://registry.opendata.aws/\n",
    "8. https://azure.microsoft.com/en-us/services/open-datasets/\n",
    "9. https://www.reddit.com/r/datasets/"
   ]
  },
  {
   "cell_type": "markdown",
   "metadata": {},
   "source": [
    "# 3. Explore the Data\n",
    "Note: try to get insights from a field expert for these steps.  \n",
    "\n",
    "1. Create a copy of the data for exploration (sampling it down to a manageable size if necessary).\n",
    "2. Create a Jupyter notebook to keep record of your data exploration.  \n",
    "3. Study each attribute and its characteristics:  \n",
    "    - Name  \n",
    "    - Type (categorical, int/float, bounded/unbounded, text, structured, etc.)\n",
    "    - % of missing values  \n",
    "    - Noisiness and type of noise (stochastic, outliers, rounding errors, etc.)\n",
    "    - Possibly useful for the task?  \n",
    "    - Type of distribution (Gaussian, uniform, logarithmic, etc.)\n",
    "4. For supervised learning tasks, identify the target attribute(s).\n",
    "5. Visualize the data.  \n",
    "6. Study the correlations between attributes.  \n",
    "7. Study how you would solve the problem manually.  \n",
    "8. Identify the promising transformations you may want to apply.  \n",
    "9. Identify extra data that would be useful (go back to \"Get the Data\" on page 502).  \n",
    "10. Document what you have learned.  "
   ]
  },
  {
   "cell_type": "markdown",
   "metadata": {},
   "source": [
    "# 4. Prepare the Data\n",
    "Notes:    \n",
    "- Work on copies of the data (keep the original dataset intact).  \n",
    "- Write functions for all data transformations you apply, for five reasons:  \n",
    "    - So you can easily prepare the data the next time you get a fresh dataset  \n",
    "    - So you can apply these transformations in future projects  \n",
    "    - To clean and prepare the test set  \n",
    "    - To clean and prepare new data instances  \n",
    "    - To make it easy to treat your preparation choices as hyperparameters  \n",
    "\n",
    "1. Data cleaning:  \n",
    "    - Fix or remove outliers (optional).  \n",
    "    - Fill in missing values (e.g., with zero, mean, median...) or drop their rows (or columns).  \n",
    "2. Feature selection (optional):  \n",
    "    - Drop the attributes that provide no useful information for the task.  \n",
    "3. Feature engineering, where appropriates:  \n",
    "    - Discretize continuous features.  \n",
    "    - Decompose features (e.g., categorical, date/time, etc.).  \n",
    "    - Add promising transformations of features (e.g., log(x), sqrt(x), x^2, etc.).\n",
    "    - Aggregate features into promising new features.  \n",
    "4. Feature scaling: standardize or normalize features.  "
   ]
  },
  {
   "cell_type": "markdown",
   "metadata": {},
   "source": [
    "# 5. Explore Models\n",
    "Notes: \n",
    "- If the data is huge, you may want to sample smaller training sets so you can train many different models in a reasonable time (be aware that this penalizes complex models such as large neural nets or Random Forests).  \n",
    "- Once again, try to automate these steps as much as possible.    \n",
    "\n",
    "1. Train many quick and dirty models from different categories (e.g., linear, naive, Bayes, SVM, Random Forests, neural net, etc.) using standard parameters.  \n",
    "2. Measure and compare their performance.  \n",
    "    - For each model, use N-fold cross-validation and compute the mean and standard deviation of their performance. \n",
    "3. Analyze the most significant variables for each algorithm.  \n",
    "4. Analyze the types of errors the models make.  \n",
    "    - What data would a human have used to avoid these errors?  \n",
    "5. Have a quick round of feature selection and engineering.  \n",
    "6. Have one or two more quick iterations of the five previous steps.  \n",
    "7. Short-list the top three to five most promising models, preferring models that make different types of errors.  "
   ]
  },
  {
   "cell_type": "markdown",
   "metadata": {},
   "source": [
    "# 6. Fine Tune Models\n",
    "Notes:  \n",
    "- You will want to use as much data as possible for this step, especially as you move toward the end of fine-tuning.   \n",
    "- As always automate what you can.    \n",
    "\n",
    "1. Fine-tune the hyperparameters using cross-validation.  \n",
    "    - Treat your data transformation choices as hyperparameters, especially when you are not sure about them (e.g., should I replace missing values with zero or the median value? Or just drop the rows?).  \n",
    "    - Unless there are very few hyperparamter values to explore, prefer random search over grid search. If training is very long, you may prefer a Bayesian optimization approach (e.g., using a Gaussian process priors, as described by Jasper Snoek, Hugo Larochelle, and Ryan Adams ([https://goo.gl/PEFfGr](https://goo.gl/PEFfGr)))  \n",
    "2. Try Ensemble methods. Combining your best models will often perform better than running them invdividually.  \n",
    "3. Once you are confident about your final model, measure its performance on the test set to estimate the generalization error.\n",
    "\n",
    "> Don't tweak your model after measuring the generalization error: you would just start overfitting the test set.  \n",
    "  "
   ]
  },
  {
   "cell_type": "markdown",
   "metadata": {},
   "source": [
    "# 7. Present Solution\n",
    "1. Document what you have done.  \n",
    "2. Create a nice presentation.  \n",
    "    - Make sure you highlight the big picture first.  \n",
    "3. Explain why your solution achieves the business objective.  \n",
    "4. Don't forget to present interesting points you noticed along the way.  \n",
    "    - Describe what worked and what did not.  \n",
    "    - List your assumptions and your system's limitations.  \n",
    "5. Ensure your key findings are communicated through beautiful visualizations or easy-to-remember statements (e.g., \"the median income is the number-one predictor of housing prices\").  "
   ]
  },
  {
   "cell_type": "markdown",
   "metadata": {},
   "source": [
    "# 8. Launch and Monitor\n",
    "1. Get your solution ready for production (plug into production data inputs, write unit tests, etc.).  \n",
    "2. Write monitoring code to check your system's live performance at regular intervals and trigger alerts when it drops.  \n",
    "    - Beware of slow degradation too: models tend to \"rot\" as data evolves.   \n",
    "    - Measuring performance may require a human pipeline (e.g., via a crowdsourcing service).  \n",
    "    - Also monitor your inputs' quality (e.g., a malfunctioning sensor sending random values, or another team's output becoming stale). This is  particulary important for online learning systems.  \n",
    "3. Retrain your models on a regular basis on fresh data (automate as much as possible).  \n"
   ]
  },
  {
   "cell_type": "code",
   "execution_count": null,
   "metadata": {},
   "outputs": [],
   "source": []
  }
 ],
 "metadata": {
  "kernelspec": {
   "display_name": "ml",
   "language": "python",
   "name": "ml"
  },
  "language_info": {
   "codemirror_mode": {
    "name": "ipython",
    "version": 3
   },
   "file_extension": ".py",
   "mimetype": "text/x-python",
   "name": "python",
   "nbconvert_exporter": "python",
   "pygments_lexer": "ipython3",
   "version": "3.6.9"
  }
 },
 "nbformat": 4,
 "nbformat_minor": 4
}
